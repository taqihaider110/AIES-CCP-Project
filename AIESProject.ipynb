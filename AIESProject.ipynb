{
  "cells": [
    {
      "cell_type": "markdown",
      "metadata": {
        "id": "rjGZv7GHCS2i"
      },
      "source": [
        "**IMPORTING RELEVANT LIBRARIES**"
      ]
    },
    {
      "cell_type": "code",
      "execution_count": 2,
      "metadata": {},
      "outputs": [
        {
          "name": "stdout",
          "output_type": "stream",
          "text": [
            "Requirement already satisfied: wordcloud in c:\\users\\taqi haider\\appdata\\local\\programs\\python\\python311\\lib\\site-packages (1.9.4)\n",
            "Requirement already satisfied: imbalanced-learn in c:\\users\\taqi haider\\appdata\\local\\programs\\python\\python311\\lib\\site-packages (0.13.0)\n",
            "Requirement already satisfied: numpy>=1.6.1 in c:\\users\\taqi haider\\appdata\\local\\programs\\python\\python311\\lib\\site-packages (from wordcloud) (2.2.5)\n",
            "Requirement already satisfied: pillow in c:\\users\\taqi haider\\appdata\\local\\programs\\python\\python311\\lib\\site-packages (from wordcloud) (11.2.1)\n",
            "Requirement already satisfied: matplotlib in c:\\users\\taqi haider\\appdata\\local\\programs\\python\\python311\\lib\\site-packages (from wordcloud) (3.10.3)\n",
            "Requirement already satisfied: scipy<2,>=1.10.1 in c:\\users\\taqi haider\\appdata\\local\\programs\\python\\python311\\lib\\site-packages (from imbalanced-learn) (1.15.3)\n",
            "Requirement already satisfied: scikit-learn<2,>=1.3.2 in c:\\users\\taqi haider\\appdata\\local\\programs\\python\\python311\\lib\\site-packages (from imbalanced-learn) (1.6.1)\n",
            "Requirement already satisfied: sklearn-compat<1,>=0.1 in c:\\users\\taqi haider\\appdata\\local\\programs\\python\\python311\\lib\\site-packages (from imbalanced-learn) (0.1.3)\n",
            "Requirement already satisfied: joblib<2,>=1.1.1 in c:\\users\\taqi haider\\appdata\\local\\programs\\python\\python311\\lib\\site-packages (from imbalanced-learn) (1.4.0)\n",
            "Requirement already satisfied: threadpoolctl<4,>=2.0.0 in c:\\users\\taqi haider\\appdata\\local\\programs\\python\\python311\\lib\\site-packages (from imbalanced-learn) (3.6.0)\n",
            "Requirement already satisfied: contourpy>=1.0.1 in c:\\users\\taqi haider\\appdata\\local\\programs\\python\\python311\\lib\\site-packages (from matplotlib->wordcloud) (1.3.2)\n",
            "Requirement already satisfied: cycler>=0.10 in c:\\users\\taqi haider\\appdata\\local\\programs\\python\\python311\\lib\\site-packages (from matplotlib->wordcloud) (0.12.1)\n",
            "Requirement already satisfied: fonttools>=4.22.0 in c:\\users\\taqi haider\\appdata\\local\\programs\\python\\python311\\lib\\site-packages (from matplotlib->wordcloud) (4.58.0)\n",
            "Requirement already satisfied: kiwisolver>=1.3.1 in c:\\users\\taqi haider\\appdata\\local\\programs\\python\\python311\\lib\\site-packages (from matplotlib->wordcloud) (1.4.8)\n",
            "Requirement already satisfied: packaging>=20.0 in c:\\users\\taqi haider\\appdata\\local\\programs\\python\\python311\\lib\\site-packages (from matplotlib->wordcloud) (25.0)\n",
            "Requirement already satisfied: pyparsing>=2.3.1 in c:\\users\\taqi haider\\appdata\\local\\programs\\python\\python311\\lib\\site-packages (from matplotlib->wordcloud) (3.2.3)\n",
            "Requirement already satisfied: python-dateutil>=2.7 in c:\\users\\taqi haider\\appdata\\local\\programs\\python\\python311\\lib\\site-packages (from matplotlib->wordcloud) (2.9.0.post0)\n",
            "Requirement already satisfied: six>=1.5 in c:\\users\\taqi haider\\appdata\\local\\programs\\python\\python311\\lib\\site-packages (from python-dateutil>=2.7->matplotlib->wordcloud) (1.17.0)\n",
            "Note: you may need to restart the kernel to use updated packages.\n",
            "Requirement already satisfied: imbalanced-learn in c:\\users\\taqi haider\\appdata\\local\\programs\\python\\python311\\lib\\site-packages (0.13.0)\n",
            "Requirement already satisfied: numpy<3,>=1.24.3 in c:\\users\\taqi haider\\appdata\\local\\programs\\python\\python311\\lib\\site-packages (from imbalanced-learn) (2.2.5)\n",
            "Requirement already satisfied: scipy<2,>=1.10.1 in c:\\users\\taqi haider\\appdata\\local\\programs\\python\\python311\\lib\\site-packages (from imbalanced-learn) (1.15.3)\n",
            "Requirement already satisfied: scikit-learn<2,>=1.3.2 in c:\\users\\taqi haider\\appdata\\local\\programs\\python\\python311\\lib\\site-packages (from imbalanced-learn) (1.6.1)\n",
            "Requirement already satisfied: sklearn-compat<1,>=0.1 in c:\\users\\taqi haider\\appdata\\local\\programs\\python\\python311\\lib\\site-packages (from imbalanced-learn) (0.1.3)\n",
            "Requirement already satisfied: joblib<2,>=1.1.1 in c:\\users\\taqi haider\\appdata\\local\\programs\\python\\python311\\lib\\site-packages (from imbalanced-learn) (1.4.0)\n",
            "Requirement already satisfied: threadpoolctl<4,>=2.0.0 in c:\\users\\taqi haider\\appdata\\local\\programs\\python\\python311\\lib\\site-packages (from imbalanced-learn) (3.6.0)\n",
            "Note: you may need to restart the kernel to use updated packages.\n",
            "Requirement already satisfied: scikit-learn in c:\\users\\taqi haider\\appdata\\local\\programs\\python\\python311\\lib\\site-packages (1.6.1)\n",
            "Requirement already satisfied: numpy>=1.19.5 in c:\\users\\taqi haider\\appdata\\local\\programs\\python\\python311\\lib\\site-packages (from scikit-learn) (2.2.5)\n",
            "Requirement already satisfied: scipy>=1.6.0 in c:\\users\\taqi haider\\appdata\\local\\programs\\python\\python311\\lib\\site-packages (from scikit-learn) (1.15.3)\n",
            "Requirement already satisfied: joblib>=1.2.0 in c:\\users\\taqi haider\\appdata\\local\\programs\\python\\python311\\lib\\site-packages (from scikit-learn) (1.4.0)\n",
            "Requirement already satisfied: threadpoolctl>=3.1.0 in c:\\users\\taqi haider\\appdata\\local\\programs\\python\\python311\\lib\\site-packages (from scikit-learn) (3.6.0)\n",
            "Note: you may need to restart the kernel to use updated packages.\n",
            "Requirement already satisfied: seaborn in c:\\users\\taqi haider\\appdata\\local\\programs\\python\\python311\\lib\\site-packages (0.13.2)\n",
            "Requirement already satisfied: numpy!=1.24.0,>=1.20 in c:\\users\\taqi haider\\appdata\\local\\programs\\python\\python311\\lib\\site-packages (from seaborn) (2.2.5)\n",
            "Requirement already satisfied: pandas>=1.2 in c:\\users\\taqi haider\\appdata\\local\\programs\\python\\python311\\lib\\site-packages (from seaborn) (2.2.3)\n",
            "Requirement already satisfied: matplotlib!=3.6.1,>=3.4 in c:\\users\\taqi haider\\appdata\\local\\programs\\python\\python311\\lib\\site-packages (from seaborn) (3.10.3)\n",
            "Requirement already satisfied: contourpy>=1.0.1 in c:\\users\\taqi haider\\appdata\\local\\programs\\python\\python311\\lib\\site-packages (from matplotlib!=3.6.1,>=3.4->seaborn) (1.3.2)\n",
            "Requirement already satisfied: cycler>=0.10 in c:\\users\\taqi haider\\appdata\\local\\programs\\python\\python311\\lib\\site-packages (from matplotlib!=3.6.1,>=3.4->seaborn) (0.12.1)\n",
            "Requirement already satisfied: fonttools>=4.22.0 in c:\\users\\taqi haider\\appdata\\local\\programs\\python\\python311\\lib\\site-packages (from matplotlib!=3.6.1,>=3.4->seaborn) (4.58.0)\n",
            "Requirement already satisfied: kiwisolver>=1.3.1 in c:\\users\\taqi haider\\appdata\\local\\programs\\python\\python311\\lib\\site-packages (from matplotlib!=3.6.1,>=3.4->seaborn) (1.4.8)\n",
            "Requirement already satisfied: packaging>=20.0 in c:\\users\\taqi haider\\appdata\\local\\programs\\python\\python311\\lib\\site-packages (from matplotlib!=3.6.1,>=3.4->seaborn) (25.0)\n",
            "Requirement already satisfied: pillow>=8 in c:\\users\\taqi haider\\appdata\\local\\programs\\python\\python311\\lib\\site-packages (from matplotlib!=3.6.1,>=3.4->seaborn) (11.2.1)\n",
            "Requirement already satisfied: pyparsing>=2.3.1 in c:\\users\\taqi haider\\appdata\\local\\programs\\python\\python311\\lib\\site-packages (from matplotlib!=3.6.1,>=3.4->seaborn) (3.2.3)\n",
            "Requirement already satisfied: python-dateutil>=2.7 in c:\\users\\taqi haider\\appdata\\local\\programs\\python\\python311\\lib\\site-packages (from matplotlib!=3.6.1,>=3.4->seaborn) (2.9.0.post0)\n",
            "Requirement already satisfied: pytz>=2020.1 in c:\\users\\taqi haider\\appdata\\local\\programs\\python\\python311\\lib\\site-packages (from pandas>=1.2->seaborn) (2025.2)\n",
            "Requirement already satisfied: tzdata>=2022.7 in c:\\users\\taqi haider\\appdata\\local\\programs\\python\\python311\\lib\\site-packages (from pandas>=1.2->seaborn) (2025.2)\n",
            "Requirement already satisfied: six>=1.5 in c:\\users\\taqi haider\\appdata\\local\\programs\\python\\python311\\lib\\site-packages (from python-dateutil>=2.7->matplotlib!=3.6.1,>=3.4->seaborn) (1.17.0)\n",
            "Note: you may need to restart the kernel to use updated packages.\n",
            "Requirement already satisfied: matplotlib in c:\\users\\taqi haider\\appdata\\local\\programs\\python\\python311\\lib\\site-packages (3.10.3)\n",
            "Requirement already satisfied: contourpy>=1.0.1 in c:\\users\\taqi haider\\appdata\\local\\programs\\python\\python311\\lib\\site-packages (from matplotlib) (1.3.2)\n",
            "Requirement already satisfied: cycler>=0.10 in c:\\users\\taqi haider\\appdata\\local\\programs\\python\\python311\\lib\\site-packages (from matplotlib) (0.12.1)\n",
            "Requirement already satisfied: fonttools>=4.22.0 in c:\\users\\taqi haider\\appdata\\local\\programs\\python\\python311\\lib\\site-packages (from matplotlib) (4.58.0)\n",
            "Requirement already satisfied: kiwisolver>=1.3.1 in c:\\users\\taqi haider\\appdata\\local\\programs\\python\\python311\\lib\\site-packages (from matplotlib) (1.4.8)\n",
            "Requirement already satisfied: numpy>=1.23 in c:\\users\\taqi haider\\appdata\\local\\programs\\python\\python311\\lib\\site-packages (from matplotlib) (2.2.5)\n",
            "Requirement already satisfied: packaging>=20.0 in c:\\users\\taqi haider\\appdata\\local\\programs\\python\\python311\\lib\\site-packages (from matplotlib) (25.0)\n",
            "Requirement already satisfied: pillow>=8 in c:\\users\\taqi haider\\appdata\\local\\programs\\python\\python311\\lib\\site-packages (from matplotlib) (11.2.1)\n",
            "Requirement already satisfied: pyparsing>=2.3.1 in c:\\users\\taqi haider\\appdata\\local\\programs\\python\\python311\\lib\\site-packages (from matplotlib) (3.2.3)\n",
            "Requirement already satisfied: python-dateutil>=2.7 in c:\\users\\taqi haider\\appdata\\local\\programs\\python\\python311\\lib\\site-packages (from matplotlib) (2.9.0.post0)\n",
            "Requirement already satisfied: six>=1.5 in c:\\users\\taqi haider\\appdata\\local\\programs\\python\\python311\\lib\\site-packages (from python-dateutil>=2.7->matplotlib) (1.17.0)\n",
            "Note: you may need to restart the kernel to use updated packages.\n",
            "Requirement already satisfied: nltk in c:\\users\\taqi haider\\appdata\\local\\programs\\python\\python311\\lib\\site-packages (3.9.1)\n",
            "Requirement already satisfied: click in c:\\users\\taqi haider\\appdata\\local\\programs\\python\\python311\\lib\\site-packages (from nltk) (8.2.0)\n",
            "Requirement already satisfied: joblib in c:\\users\\taqi haider\\appdata\\local\\programs\\python\\python311\\lib\\site-packages (from nltk) (1.4.0)\n",
            "Requirement already satisfied: regex>=2021.8.3 in c:\\users\\taqi haider\\appdata\\local\\programs\\python\\python311\\lib\\site-packages (from nltk) (2024.11.6)\n",
            "Requirement already satisfied: tqdm in c:\\users\\taqi haider\\appdata\\local\\programs\\python\\python311\\lib\\site-packages (from nltk) (4.67.1)\n",
            "Requirement already satisfied: colorama in c:\\users\\taqi haider\\appdata\\local\\programs\\python\\python311\\lib\\site-packages (from click->nltk) (0.4.6)\n",
            "Note: you may need to restart the kernel to use updated packages.\n",
            "Requirement already satisfied: pandas in c:\\users\\taqi haider\\appdata\\local\\programs\\python\\python311\\lib\\site-packages (2.2.3)\n",
            "Requirement already satisfied: numpy>=1.23.2 in c:\\users\\taqi haider\\appdata\\local\\programs\\python\\python311\\lib\\site-packages (from pandas) (2.2.5)\n",
            "Requirement already satisfied: python-dateutil>=2.8.2 in c:\\users\\taqi haider\\appdata\\local\\programs\\python\\python311\\lib\\site-packages (from pandas) (2.9.0.post0)\n",
            "Requirement already satisfied: pytz>=2020.1 in c:\\users\\taqi haider\\appdata\\local\\programs\\python\\python311\\lib\\site-packages (from pandas) (2025.2)\n",
            "Requirement already satisfied: tzdata>=2022.7 in c:\\users\\taqi haider\\appdata\\local\\programs\\python\\python311\\lib\\site-packages (from pandas) (2025.2)\n",
            "Requirement already satisfied: six>=1.5 in c:\\users\\taqi haider\\appdata\\local\\programs\\python\\python311\\lib\\site-packages (from python-dateutil>=2.8.2->pandas) (1.17.0)\n",
            "Note: you may need to restart the kernel to use updated packages.\n",
            "Requirement already satisfied: numpy in c:\\users\\taqi haider\\appdata\\local\\programs\\python\\python311\\lib\\site-packages (2.2.5)\n",
            "Note: you may need to restart the kernel to use updated packages.\n",
            "Requirement already satisfied: matplotlib in c:\\users\\taqi haider\\appdata\\local\\programs\\python\\python311\\lib\\site-packages (3.10.3)\n",
            "Requirement already satisfied: contourpy>=1.0.1 in c:\\users\\taqi haider\\appdata\\local\\programs\\python\\python311\\lib\\site-packages (from matplotlib) (1.3.2)\n",
            "Requirement already satisfied: cycler>=0.10 in c:\\users\\taqi haider\\appdata\\local\\programs\\python\\python311\\lib\\site-packages (from matplotlib) (0.12.1)\n",
            "Requirement already satisfied: fonttools>=4.22.0 in c:\\users\\taqi haider\\appdata\\local\\programs\\python\\python311\\lib\\site-packages (from matplotlib) (4.58.0)\n",
            "Requirement already satisfied: kiwisolver>=1.3.1 in c:\\users\\taqi haider\\appdata\\local\\programs\\python\\python311\\lib\\site-packages (from matplotlib) (1.4.8)\n",
            "Requirement already satisfied: numpy>=1.23 in c:\\users\\taqi haider\\appdata\\local\\programs\\python\\python311\\lib\\site-packages (from matplotlib) (2.2.5)\n",
            "Requirement already satisfied: packaging>=20.0 in c:\\users\\taqi haider\\appdata\\local\\programs\\python\\python311\\lib\\site-packages (from matplotlib) (25.0)\n",
            "Requirement already satisfied: pillow>=8 in c:\\users\\taqi haider\\appdata\\local\\programs\\python\\python311\\lib\\site-packages (from matplotlib) (11.2.1)\n",
            "Requirement already satisfied: pyparsing>=2.3.1 in c:\\users\\taqi haider\\appdata\\local\\programs\\python\\python311\\lib\\site-packages (from matplotlib) (3.2.3)\n",
            "Requirement already satisfied: python-dateutil>=2.7 in c:\\users\\taqi haider\\appdata\\local\\programs\\python\\python311\\lib\\site-packages (from matplotlib) (2.9.0.post0)\n",
            "Requirement already satisfied: six>=1.5 in c:\\users\\taqi haider\\appdata\\local\\programs\\python\\python311\\lib\\site-packages (from python-dateutil>=2.7->matplotlib) (1.17.0)\n",
            "Note: you may need to restart the kernel to use updated packages.\n",
            "Requirement already satisfied: wordcloud in c:\\users\\taqi haider\\appdata\\local\\programs\\python\\python311\\lib\\site-packages (1.9.4)\n",
            "Requirement already satisfied: numpy>=1.6.1 in c:\\users\\taqi haider\\appdata\\local\\programs\\python\\python311\\lib\\site-packages (from wordcloud) (2.2.5)\n",
            "Requirement already satisfied: pillow in c:\\users\\taqi haider\\appdata\\local\\programs\\python\\python311\\lib\\site-packages (from wordcloud) (11.2.1)\n",
            "Requirement already satisfied: matplotlib in c:\\users\\taqi haider\\appdata\\local\\programs\\python\\python311\\lib\\site-packages (from wordcloud) (3.10.3)\n",
            "Requirement already satisfied: contourpy>=1.0.1 in c:\\users\\taqi haider\\appdata\\local\\programs\\python\\python311\\lib\\site-packages (from matplotlib->wordcloud) (1.3.2)\n",
            "Requirement already satisfied: cycler>=0.10 in c:\\users\\taqi haider\\appdata\\local\\programs\\python\\python311\\lib\\site-packages (from matplotlib->wordcloud) (0.12.1)\n",
            "Requirement already satisfied: fonttools>=4.22.0 in c:\\users\\taqi haider\\appdata\\local\\programs\\python\\python311\\lib\\site-packages (from matplotlib->wordcloud) (4.58.0)\n",
            "Requirement already satisfied: kiwisolver>=1.3.1 in c:\\users\\taqi haider\\appdata\\local\\programs\\python\\python311\\lib\\site-packages (from matplotlib->wordcloud) (1.4.8)\n",
            "Requirement already satisfied: packaging>=20.0 in c:\\users\\taqi haider\\appdata\\local\\programs\\python\\python311\\lib\\site-packages (from matplotlib->wordcloud) (25.0)\n",
            "Requirement already satisfied: pyparsing>=2.3.1 in c:\\users\\taqi haider\\appdata\\local\\programs\\python\\python311\\lib\\site-packages (from matplotlib->wordcloud) (3.2.3)\n",
            "Requirement already satisfied: python-dateutil>=2.7 in c:\\users\\taqi haider\\appdata\\local\\programs\\python\\python311\\lib\\site-packages (from matplotlib->wordcloud) (2.9.0.post0)\n",
            "Requirement already satisfied: six>=1.5 in c:\\users\\taqi haider\\appdata\\local\\programs\\python\\python311\\lib\\site-packages (from python-dateutil>=2.7->matplotlib->wordcloud) (1.17.0)\n",
            "Note: you may need to restart the kernel to use updated packages.\n",
            "Requirement already satisfied: tqdm in c:\\users\\taqi haider\\appdata\\local\\programs\\python\\python311\\lib\\site-packages (4.67.1)\n",
            "Requirement already satisfied: colorama in c:\\users\\taqi haider\\appdata\\local\\programs\\python\\python311\\lib\\site-packages (from tqdm) (0.4.6)\n",
            "Note: you may need to restart the kernel to use updated packages.\n",
            "Requirement already satisfied: pyspellchecker in c:\\users\\taqi haider\\appdata\\local\\programs\\python\\python311\\lib\\site-packages (0.8.2)\n",
            "Note: you may need to restart the kernel to use updated packages.\n"
          ]
        }
      ],
      "source": [
        "%pip install wordcloud imbalanced-learn\n",
        "%pip install -U imbalanced-learn\n",
        "%pip install -U scikit-learn\n",
        "%pip install -U seaborn\n",
        "%pip install -U matplotlib\n",
        "%pip install nltk\n",
        "%pip install -U pandas\n",
        "%pip install -U numpy\n",
        "%pip install -U matplotlib\n",
        "%pip install -U wordcloud\n",
        "%pip install -U tqdm\n",
        "%pip install -U pyspellchecker"
      ]
    },
    {
      "cell_type": "code",
      "execution_count": 1,
      "metadata": {
        "colab": {
          "base_uri": "https://localhost:8080/"
        },
        "id": "TaXbKz8x2zQ8",
        "outputId": "044e2733-0c86-4dde-fc3b-af1e6e6153b7"
      },
      "outputs": [
        {
          "name": "stderr",
          "output_type": "stream",
          "text": [
            "[nltk_data] Downloading package punkt to C:\\Users\\Taqi\n",
            "[nltk_data]     Haider\\AppData\\Roaming\\nltk_data...\n",
            "[nltk_data]   Package punkt is already up-to-date!\n",
            "[nltk_data] Downloading package punkt_tab to C:\\Users\\Taqi\n",
            "[nltk_data]     Haider\\AppData\\Roaming\\nltk_data...\n",
            "[nltk_data]   Package punkt_tab is already up-to-date!\n",
            "[nltk_data] Downloading package stopwords to C:\\Users\\Taqi\n",
            "[nltk_data]     Haider\\AppData\\Roaming\\nltk_data...\n",
            "[nltk_data]   Package stopwords is already up-to-date!\n",
            "[nltk_data] Downloading package wordnet to C:\\Users\\Taqi\n",
            "[nltk_data]     Haider\\AppData\\Roaming\\nltk_data...\n",
            "[nltk_data]   Package wordnet is already up-to-date!\n"
          ]
        }
      ],
      "source": [
        "import pickle\n",
        "import pandas as pd\n",
        "import numpy as np\n",
        "import matplotlib.pyplot as plt\n",
        "import seaborn as sns\n",
        "import warnings\n",
        "warnings.filterwarnings('ignore')\n",
        "\n",
        "import re # Regular expressions\n",
        "import nltk\n",
        "from nltk.corpus import stopwords # Stop words removal\n",
        "from nltk.tokenize import word_tokenize # Word tokenization\n",
        "from nltk.stem import WordNetLemmatizer  # Word lemmatization\n",
        "# Download NLTK resources\n",
        "nltk.download('punkt')\n",
        "nltk.download('punkt_tab')\n",
        "nltk.download('stopwords')\n",
        "nltk.download('wordnet')\n",
        "from wordcloud import WordCloud\n",
        "\n",
        "from sklearn.preprocessing import LabelEncoder\n",
        "from sklearn.feature_extraction.text import TfidfVectorizer # TF-IDF vectorization\n",
        "from sklearn.model_selection import train_test_split\n",
        "from sklearn.metrics import accuracy_score, classification_report, confusion_matrix\n",
        "from sklearn.utils import resample, shuffle\n",
        "from imblearn.over_sampling import SMOTE\n",
        "from sklearn.linear_model import LogisticRegression\n",
        "from sklearn.svm import SVC"
      ]
    },
    {
      "cell_type": "code",
      "execution_count": 3,
      "metadata": {
        "id": "wIQZKGx76UWK"
      },
      "outputs": [],
      "source": [
        "# Loading the dataset\n",
        "data = pd.read_csv(\"amazon-updated.csv\")\n"
      ]
    },
    {
      "cell_type": "code",
      "execution_count": 4,
      "metadata": {
        "colab": {
          "base_uri": "https://localhost:8080/"
        },
        "id": "171rljOw6UYZ",
        "outputId": "70422a95-d80a-4e29-a509-fe58dfa38c37"
      },
      "outputs": [
        {
          "data": {
            "text/plain": [
              "(1965, 16)"
            ]
          },
          "execution_count": 4,
          "metadata": {},
          "output_type": "execute_result"
        }
      ],
      "source": [
        "# Checking the shape\n",
        "data.shape"
      ]
    },
    {
      "cell_type": "code",
      "execution_count": 5,
      "metadata": {
        "colab": {
          "base_uri": "https://localhost:8080/"
        },
        "id": "TUVYEQKE6Uaw",
        "outputId": "8f4a1caa-433b-488d-de5c-f799ca4fbc39"
      },
      "outputs": [
        {
          "data": {
            "text/plain": [
              "Index(['product_id', 'product_name', 'category', 'discounted_price',\n",
              "       'actual_price', 'discount_percentage', 'rating', 'rating_count',\n",
              "       'about_product', 'user_id', 'user_name', 'review_id', 'review_title',\n",
              "       'review_content', 'img_link', 'product_link'],\n",
              "      dtype='object')"
            ]
          },
          "execution_count": 5,
          "metadata": {},
          "output_type": "execute_result"
        }
      ],
      "source": [
        "#Checking the Cloumns\n",
        "data.columns"
      ]
    },
    {
      "cell_type": "code",
      "execution_count": 6,
      "metadata": {
        "colab": {
          "base_uri": "https://localhost:8080/",
          "height": 695
        },
        "id": "SW7R0Mpa6lYN",
        "outputId": "34b68f62-d984-4b56-cf00-1d8ad4662e5d"
      },
      "outputs": [
        {
          "data": {
            "text/html": [
              "<div>\n",
              "<style scoped>\n",
              "    .dataframe tbody tr th:only-of-type {\n",
              "        vertical-align: middle;\n",
              "    }\n",
              "\n",
              "    .dataframe tbody tr th {\n",
              "        vertical-align: top;\n",
              "    }\n",
              "\n",
              "    .dataframe thead th {\n",
              "        text-align: right;\n",
              "    }\n",
              "</style>\n",
              "<table border=\"1\" class=\"dataframe\">\n",
              "  <thead>\n",
              "    <tr style=\"text-align: right;\">\n",
              "      <th></th>\n",
              "      <th>product_id</th>\n",
              "      <th>product_name</th>\n",
              "      <th>category</th>\n",
              "      <th>discounted_price</th>\n",
              "      <th>actual_price</th>\n",
              "      <th>discount_percentage</th>\n",
              "      <th>rating</th>\n",
              "      <th>rating_count</th>\n",
              "      <th>about_product</th>\n",
              "      <th>user_id</th>\n",
              "      <th>user_name</th>\n",
              "      <th>review_id</th>\n",
              "      <th>review_title</th>\n",
              "      <th>review_content</th>\n",
              "      <th>img_link</th>\n",
              "      <th>product_link</th>\n",
              "    </tr>\n",
              "  </thead>\n",
              "  <tbody>\n",
              "    <tr>\n",
              "      <th>0</th>\n",
              "      <td>B07JW9H4J1</td>\n",
              "      <td>Wayona Nylon Braided USB to Lightning Fast Cha...</td>\n",
              "      <td>Computers&amp;Accessories|Accessories&amp;Peripherals|...</td>\n",
              "      <td>₹399</td>\n",
              "      <td>₹1,099</td>\n",
              "      <td>64%</td>\n",
              "      <td>4.2</td>\n",
              "      <td>24,269</td>\n",
              "      <td>High Compatibility : Compatible With iPhone 12...</td>\n",
              "      <td>AG3D6O4STAQKAY2UVGEUV46KN35Q,AHMY5CWJMMK5BJRBB...</td>\n",
              "      <td>Manav,Adarsh gupta,Sundeep,S.Sayeed Ahmed,jasp...</td>\n",
              "      <td>R3HXWT0LRP0NMF,R2AJM3LFTLZHFO,R6AQJGUP6P86,R1K...</td>\n",
              "      <td>Satisfied,Charging is really fast,Value for mo...</td>\n",
              "      <td>Looks durable Charging is fine tooNo complains...</td>\n",
              "      <td>https://m.media-amazon.com/images/W/WEBP_40237...</td>\n",
              "      <td>https://www.amazon.in/Wayona-Braided-WN3LG1-Sy...</td>\n",
              "    </tr>\n",
              "    <tr>\n",
              "      <th>1</th>\n",
              "      <td>B098NS6PVG</td>\n",
              "      <td>Ambrane Unbreakable 60W / 3A Fast Charging 1.5...</td>\n",
              "      <td>Computers&amp;Accessories|Accessories&amp;Peripherals|...</td>\n",
              "      <td>₹199</td>\n",
              "      <td>₹349</td>\n",
              "      <td>43%</td>\n",
              "      <td>4.0</td>\n",
              "      <td>43,994</td>\n",
              "      <td>Compatible with all Type C enabled devices, be...</td>\n",
              "      <td>AECPFYFQVRUWC3KGNLJIOREFP5LQ,AGYYVPDD7YG7FYNBX...</td>\n",
              "      <td>ArdKn,Nirbhay kumar,Sagar Viswanathan,Asp,Plac...</td>\n",
              "      <td>RGIQEG07R9HS2,R1SMWZQ86XIN8U,R2J3Y1WL29GWDE,RY...</td>\n",
              "      <td>A Good Braided Cable for Your Type C Device,Go...</td>\n",
              "      <td>I ordered this cable to connect my phone to An...</td>\n",
              "      <td>https://m.media-amazon.com/images/W/WEBP_40237...</td>\n",
              "      <td>https://www.amazon.in/Ambrane-Unbreakable-Char...</td>\n",
              "    </tr>\n",
              "    <tr>\n",
              "      <th>2</th>\n",
              "      <td>B096MSW6CT</td>\n",
              "      <td>Sounce Fast Phone Charging Cable &amp; Data Sync U...</td>\n",
              "      <td>Computers&amp;Accessories|Accessories&amp;Peripherals|...</td>\n",
              "      <td>₹199</td>\n",
              "      <td>₹1,899</td>\n",
              "      <td>90%</td>\n",
              "      <td>3.9</td>\n",
              "      <td>7,928</td>\n",
              "      <td>【 Fast Charger&amp; Data Sync】-With built-in safet...</td>\n",
              "      <td>AGU3BBQ2V2DDAMOAKGFAWDDQ6QHA,AESFLDV2PT363T2AQ...</td>\n",
              "      <td>Kunal,Himanshu,viswanath,sai niharka,saqib mal...</td>\n",
              "      <td>R3J3EQQ9TZI5ZJ,R3E7WBGK7ID0KV,RWU79XKQ6I1QF,R2...</td>\n",
              "      <td>Good speed for earlier versions,Good Product,W...</td>\n",
              "      <td>Not quite durable and sturdy,https://m.media-a...</td>\n",
              "      <td>https://m.media-amazon.com/images/W/WEBP_40237...</td>\n",
              "      <td>https://www.amazon.in/Sounce-iPhone-Charging-C...</td>\n",
              "    </tr>\n",
              "    <tr>\n",
              "      <th>3</th>\n",
              "      <td>B08HDJ86NZ</td>\n",
              "      <td>boAt Deuce USB 300 2 in 1 Type-C &amp; Micro USB S...</td>\n",
              "      <td>Computers&amp;Accessories|Accessories&amp;Peripherals|...</td>\n",
              "      <td>₹329</td>\n",
              "      <td>₹699</td>\n",
              "      <td>53%</td>\n",
              "      <td>4.2</td>\n",
              "      <td>94,363</td>\n",
              "      <td>The boAt Deuce USB 300 2 in 1 cable is compati...</td>\n",
              "      <td>AEWAZDZZJLQUYVOVGBEUKSLXHQ5A,AG5HTSFRRE6NL3M5S...</td>\n",
              "      <td>Omkar dhale,JD,HEMALATHA,Ajwadh a.,amar singh ...</td>\n",
              "      <td>R3EEUZKKK9J36I,R3HJVYCLYOY554,REDECAZ7AMPQC,R1...</td>\n",
              "      <td>Good product,Good one,Nice,Really nice product...</td>\n",
              "      <td>Good product,long wire,Charges good,Nice,I bou...</td>\n",
              "      <td>https://m.media-amazon.com/images/I/41V5FtEWPk...</td>\n",
              "      <td>https://www.amazon.in/Deuce-300-Resistant-Tang...</td>\n",
              "    </tr>\n",
              "    <tr>\n",
              "      <th>4</th>\n",
              "      <td>B08CF3B7N1</td>\n",
              "      <td>Portronics Konnect L 1.2M Fast Charging 3A 8 P...</td>\n",
              "      <td>Computers&amp;Accessories|Accessories&amp;Peripherals|...</td>\n",
              "      <td>₹154</td>\n",
              "      <td>₹399</td>\n",
              "      <td>61%</td>\n",
              "      <td>4.2</td>\n",
              "      <td>16,905</td>\n",
              "      <td>[CHARGE &amp; SYNC FUNCTION]- This cable comes wit...</td>\n",
              "      <td>AE3Q6KSUK5P75D5HFYHCRAOLODSA,AFUGIFH5ZAFXRDSZH...</td>\n",
              "      <td>rahuls6099,Swasat Borah,Ajay Wadke,Pranali,RVK...</td>\n",
              "      <td>R1BP4L2HH9TFUP,R16PVJEXKV6QZS,R2UPDB81N66T4P,R...</td>\n",
              "      <td>As good as original,Decent,Good one for second...</td>\n",
              "      <td>Bought this instead of original apple, does th...</td>\n",
              "      <td>https://m.media-amazon.com/images/W/WEBP_40237...</td>\n",
              "      <td>https://www.amazon.in/Portronics-Konnect-POR-1...</td>\n",
              "    </tr>\n",
              "  </tbody>\n",
              "</table>\n",
              "</div>"
            ],
            "text/plain": [
              "   product_id                                       product_name  \\\n",
              "0  B07JW9H4J1  Wayona Nylon Braided USB to Lightning Fast Cha...   \n",
              "1  B098NS6PVG  Ambrane Unbreakable 60W / 3A Fast Charging 1.5...   \n",
              "2  B096MSW6CT  Sounce Fast Phone Charging Cable & Data Sync U...   \n",
              "3  B08HDJ86NZ  boAt Deuce USB 300 2 in 1 Type-C & Micro USB S...   \n",
              "4  B08CF3B7N1  Portronics Konnect L 1.2M Fast Charging 3A 8 P...   \n",
              "\n",
              "                                            category discounted_price  \\\n",
              "0  Computers&Accessories|Accessories&Peripherals|...             ₹399   \n",
              "1  Computers&Accessories|Accessories&Peripherals|...             ₹199   \n",
              "2  Computers&Accessories|Accessories&Peripherals|...             ₹199   \n",
              "3  Computers&Accessories|Accessories&Peripherals|...             ₹329   \n",
              "4  Computers&Accessories|Accessories&Peripherals|...             ₹154   \n",
              "\n",
              "  actual_price discount_percentage rating rating_count  \\\n",
              "0       ₹1,099                 64%    4.2       24,269   \n",
              "1         ₹349                 43%    4.0       43,994   \n",
              "2       ₹1,899                 90%    3.9        7,928   \n",
              "3         ₹699                 53%    4.2       94,363   \n",
              "4         ₹399                 61%    4.2       16,905   \n",
              "\n",
              "                                       about_product  \\\n",
              "0  High Compatibility : Compatible With iPhone 12...   \n",
              "1  Compatible with all Type C enabled devices, be...   \n",
              "2  【 Fast Charger& Data Sync】-With built-in safet...   \n",
              "3  The boAt Deuce USB 300 2 in 1 cable is compati...   \n",
              "4  [CHARGE & SYNC FUNCTION]- This cable comes wit...   \n",
              "\n",
              "                                             user_id  \\\n",
              "0  AG3D6O4STAQKAY2UVGEUV46KN35Q,AHMY5CWJMMK5BJRBB...   \n",
              "1  AECPFYFQVRUWC3KGNLJIOREFP5LQ,AGYYVPDD7YG7FYNBX...   \n",
              "2  AGU3BBQ2V2DDAMOAKGFAWDDQ6QHA,AESFLDV2PT363T2AQ...   \n",
              "3  AEWAZDZZJLQUYVOVGBEUKSLXHQ5A,AG5HTSFRRE6NL3M5S...   \n",
              "4  AE3Q6KSUK5P75D5HFYHCRAOLODSA,AFUGIFH5ZAFXRDSZH...   \n",
              "\n",
              "                                           user_name  \\\n",
              "0  Manav,Adarsh gupta,Sundeep,S.Sayeed Ahmed,jasp...   \n",
              "1  ArdKn,Nirbhay kumar,Sagar Viswanathan,Asp,Plac...   \n",
              "2  Kunal,Himanshu,viswanath,sai niharka,saqib mal...   \n",
              "3  Omkar dhale,JD,HEMALATHA,Ajwadh a.,amar singh ...   \n",
              "4  rahuls6099,Swasat Borah,Ajay Wadke,Pranali,RVK...   \n",
              "\n",
              "                                           review_id  \\\n",
              "0  R3HXWT0LRP0NMF,R2AJM3LFTLZHFO,R6AQJGUP6P86,R1K...   \n",
              "1  RGIQEG07R9HS2,R1SMWZQ86XIN8U,R2J3Y1WL29GWDE,RY...   \n",
              "2  R3J3EQQ9TZI5ZJ,R3E7WBGK7ID0KV,RWU79XKQ6I1QF,R2...   \n",
              "3  R3EEUZKKK9J36I,R3HJVYCLYOY554,REDECAZ7AMPQC,R1...   \n",
              "4  R1BP4L2HH9TFUP,R16PVJEXKV6QZS,R2UPDB81N66T4P,R...   \n",
              "\n",
              "                                        review_title  \\\n",
              "0  Satisfied,Charging is really fast,Value for mo...   \n",
              "1  A Good Braided Cable for Your Type C Device,Go...   \n",
              "2  Good speed for earlier versions,Good Product,W...   \n",
              "3  Good product,Good one,Nice,Really nice product...   \n",
              "4  As good as original,Decent,Good one for second...   \n",
              "\n",
              "                                      review_content  \\\n",
              "0  Looks durable Charging is fine tooNo complains...   \n",
              "1  I ordered this cable to connect my phone to An...   \n",
              "2  Not quite durable and sturdy,https://m.media-a...   \n",
              "3  Good product,long wire,Charges good,Nice,I bou...   \n",
              "4  Bought this instead of original apple, does th...   \n",
              "\n",
              "                                            img_link  \\\n",
              "0  https://m.media-amazon.com/images/W/WEBP_40237...   \n",
              "1  https://m.media-amazon.com/images/W/WEBP_40237...   \n",
              "2  https://m.media-amazon.com/images/W/WEBP_40237...   \n",
              "3  https://m.media-amazon.com/images/I/41V5FtEWPk...   \n",
              "4  https://m.media-amazon.com/images/W/WEBP_40237...   \n",
              "\n",
              "                                        product_link  \n",
              "0  https://www.amazon.in/Wayona-Braided-WN3LG1-Sy...  \n",
              "1  https://www.amazon.in/Ambrane-Unbreakable-Char...  \n",
              "2  https://www.amazon.in/Sounce-iPhone-Charging-C...  \n",
              "3  https://www.amazon.in/Deuce-300-Resistant-Tang...  \n",
              "4  https://www.amazon.in/Portronics-Konnect-POR-1...  "
            ]
          },
          "execution_count": 6,
          "metadata": {},
          "output_type": "execute_result"
        }
      ],
      "source": [
        "# Previewing the dataset\n",
        "data.head()"
      ]
    },
    {
      "cell_type": "code",
      "execution_count": null,
      "metadata": {
        "colab": {
          "base_uri": "https://localhost:8080/",
          "height": 272
        },
        "id": "bOEFyv4w6nj0",
        "outputId": "2b2b12fa-0977-4715-87b5-e82d1ce4ea9a"
      },
      "outputs": [],
      "source": [
        "# # Checking the Scores/Ratings Distribution\n",
        "# data.Score.value_counts()\n",
        "\n",
        "# Tried But not work"
      ]
    },
    {
      "cell_type": "code",
      "execution_count": 10,
      "metadata": {},
      "outputs": [
        {
          "data": {
            "text/plain": [
              "rating\n",
              "4.1    244\n",
              "4.3    230\n",
              "4.2    228\n",
              "4.0    129\n",
              "3.9    123\n",
              "4.4    123\n",
              "3.8     86\n",
              "4.5     75\n",
              "4       52\n",
              "3.7     42\n",
              "2.7     37\n",
              "3.6     35\n",
              "1.6     34\n",
              "2.1     33\n",
              "1.4     33\n",
              "1.2     30\n",
              "2.0     29\n",
              "2.8     28\n",
              "2.6     27\n",
              "1.5     27\n",
              "1.3     26\n",
              "3.5     26\n",
              "1.7     26\n",
              "1.1     24\n",
              "2.4     22\n",
              "1.9     22\n",
              "2.3     22\n",
              "1.8     22\n",
              "2.2     21\n",
              "2.9     19\n",
              "2.5     17\n",
              "4.6     17\n",
              "3.3     16\n",
              "3.4     10\n",
              "4.7      6\n",
              "1.0      6\n",
              "3.1      4\n",
              "3.0      3\n",
              "4.8      3\n",
              "5.0      3\n",
              "3.2      2\n",
              "2        1\n",
              "|        1\n",
              "3        1\n",
              "Name: count, dtype: int64"
            ]
          },
          "execution_count": 10,
          "metadata": {},
          "output_type": "execute_result"
        }
      ],
      "source": [
        "# Checking the Ratings Distribution\n",
        "# print(data.columns)  # Check available columns\n",
        "\n",
        "# If the column is 'rating' (lowercase), use that:\n",
        "data['rating'].value_counts()"
      ]
    },
    {
      "cell_type": "code",
      "execution_count": null,
      "metadata": {
        "colab": {
          "base_uri": "https://localhost:8080/",
          "height": 398
        },
        "id": "fitJryVg61zh",
        "outputId": "fd3ac263-6aec-4bcb-88d3-1fe2151f6b88"
      },
      "outputs": [],
      "source": [
        "# Checking for Missing Values\n",
        "data.isnull().sum()"
      ]
    },
    {
      "cell_type": "code",
      "execution_count": null,
      "metadata": {
        "id": "En5CxmlF612N"
      },
      "outputs": [],
      "source": [
        "# Dropping the Rows with Missing Values\n",
        "data.dropna(inplace=True)"
      ]
    },
    {
      "cell_type": "code",
      "execution_count": null,
      "metadata": {
        "colab": {
          "base_uri": "https://localhost:8080/"
        },
        "id": "L0-VFQTR7vEu",
        "outputId": "7743a3ac-8ec4-4022-e943-68672b60efdb"
      },
      "outputs": [],
      "source": [
        "# Checking the shape again\n",
        "data.shape"
      ]
    },
    {
      "cell_type": "code",
      "execution_count": null,
      "metadata": {
        "id": "uxgMq2m37wkY"
      },
      "outputs": [],
      "source": [
        "# Removing the unnecessary features and retaining the relevant features for Sentiment Analysis\n",
        "data = data[['Score','Summary','Text']]"
      ]
    },
    {
      "cell_type": "code",
      "execution_count": null,
      "metadata": {
        "colab": {
          "base_uri": "https://localhost:8080/",
          "height": 206
        },
        "id": "FJZWvWlH8xJV",
        "outputId": "c0ade9a8-d193-482e-e6c6-c4fb326c108c"
      },
      "outputs": [],
      "source": [
        "# Previewing the dataset again\n",
        "data.head()"
      ]
    },
    {
      "cell_type": "code",
      "execution_count": null,
      "metadata": {
        "id": "dJ_j0uEo822J"
      },
      "outputs": [],
      "source": [
        "# Making the copy of the dataset\n",
        "df = data.copy()"
      ]
    },
    {
      "cell_type": "code",
      "execution_count": null,
      "metadata": {
        "colab": {
          "base_uri": "https://localhost:8080/",
          "height": 206
        },
        "id": "GXlHYybN9BLT",
        "outputId": "2221318d-cf84-4e9e-f374-fc48a8b4ff50"
      },
      "outputs": [],
      "source": [
        "# Concatenating the Summary and Text features\n",
        "df['Review'] = df['Summary'] + \" \" + df['Text']\n",
        "df = df.drop(['Summary','Text'],axis=1)\n",
        "df.head()"
      ]
    },
    {
      "cell_type": "code",
      "execution_count": null,
      "metadata": {
        "colab": {
          "base_uri": "https://localhost:8080/",
          "height": 206
        },
        "id": "v5wy9QiLV08G",
        "outputId": "fba9ba65-0bc3-47ef-b716-2f4e81de8ff6"
      },
      "outputs": [],
      "source": [
        "# Cleaning the Dataset\n",
        "\n",
        "def clean_text(text):\n",
        "    text = re.sub(r'<.*?>', '', text) # Remove HTML tags\n",
        "    text = re.sub(r'[^\\w\\s]', '', text) # Remove punctuation\n",
        "    text = text.lower() # Convert to lowercase\n",
        "    return text\n",
        "\n",
        "df['Review'] = df['Review'].apply(clean_text)\n",
        "df.head()"
      ]
    },
    {
      "cell_type": "code",
      "execution_count": null,
      "metadata": {
        "id": "WK0UxuXTX8C7"
      },
      "outputs": [],
      "source": [
        "# Initializing the stop words and lemmatizer\n",
        "stop_words = set(stopwords.words('english'))\n",
        "lemmatizer = WordNetLemmatizer()\n",
        "\n",
        "# Defining a function to preprocess the text\n",
        "def preprocess_text(review):\n",
        "    # Tokenization\n",
        "    tokens = word_tokenize(review)\n",
        "\n",
        "    # Stopword Removal\n",
        "    filtered_tokens = [word for word in tokens if word.lower() not in stop_words]\n",
        "\n",
        "    # Lemmatization\n",
        "    lemmatized_tokens = [lemmatizer.lemmatize(token) for token in filtered_tokens]\n",
        "\n",
        "     # Join the tokens back into a string\n",
        "    cleaned_review = ' '.join(lemmatized_tokens)\n",
        "\n",
        "    return cleaned_review\n",
        "\n",
        "# Applying the function to the Review column\n",
        "df['cleaned_review'] = df['Review'].apply(preprocess_text)\n",
        "\n",
        "df = df.drop(['Review'], axis=1)"
      ]
    },
    {
      "cell_type": "code",
      "execution_count": null,
      "metadata": {
        "colab": {
          "base_uri": "https://localhost:8080/",
          "height": 206
        },
        "id": "KrTdPQCPX8FO",
        "outputId": "cf34a514-4607-4995-8f54-a3143b450851"
      },
      "outputs": [],
      "source": [
        "# Previewing the data\n",
        "df.head()"
      ]
    },
    {
      "cell_type": "code",
      "execution_count": null,
      "metadata": {
        "colab": {
          "base_uri": "https://localhost:8080/",
          "height": 836
        },
        "id": "xFl8kEDEhJLI",
        "outputId": "63b36fb3-f24f-403a-bbe4-82406f2016b6"
      },
      "outputs": [],
      "source": [
        "# Combining all cleaned reviews into a single string\n",
        "text = ' '.join(df['cleaned_review'].astype(str).tolist())\n",
        "\n",
        "# Creating a WordCloud object\n",
        "wordcloud = WordCloud(width = 800, height = 800,\n",
        "                background_color ='white',\n",
        "                stopwords = stop_words, # Use the stop words you defined earlier\n",
        "                min_font_size = 10).generate(text)\n",
        "\n",
        "# Plotting the WordCloud image\n",
        "plt.figure(figsize = (8, 8), facecolor = None)\n",
        "plt.imshow(wordcloud)\n",
        "plt.axis(\"off\")\n",
        "plt.tight_layout(pad = 0)\n",
        "plt.show()"
      ]
    },
    {
      "cell_type": "code",
      "execution_count": null,
      "metadata": {
        "colab": {
          "base_uri": "https://localhost:8080/",
          "height": 206
        },
        "id": "evj4LwsAinpI",
        "outputId": "2c693496-ba89-4494-d975-ed9274236b77"
      },
      "outputs": [],
      "source": [
        "# Defining sentiment labels based on the rating\n",
        "def get_sentiment(rating):\n",
        "    if rating < 3.0:\n",
        "        return 'negative'\n",
        "    elif rating >= 4.0:\n",
        "        return 'positive'\n",
        "    else:\n",
        "        return 'neutral'\n",
        "\n",
        "# Applying the function to create a new sentiment column\n",
        "df['sentiment'] = df['Score'].apply(get_sentiment)\n",
        "\n",
        "# Dropping the rating column as it has served its purpose\n",
        "df = df.drop(['Score'], axis=1)\n",
        "\n",
        "df.head()"
      ]
    },
    {
      "cell_type": "code",
      "execution_count": null,
      "metadata": {
        "colab": {
          "base_uri": "https://localhost:8080/",
          "height": 559
        },
        "id": "8aOKVrR-quDb",
        "outputId": "eb0ee738-59d1-4c6e-81a1-d43912762c6f"
      },
      "outputs": [],
      "source": [
        "# Checking for class distribution\n",
        "print(df['sentiment'].value_counts())\n",
        "\n",
        "# Visualize the distribution\n",
        "sns.countplot(x='sentiment', data=df)\n",
        "plt.title('Sentiment Class Distribution')\n",
        "plt.show()"
      ]
    },
    {
      "cell_type": "code",
      "execution_count": null,
      "metadata": {
        "colab": {
          "base_uri": "https://localhost:8080/",
          "height": 206
        },
        "id": "lz39raa5quF4",
        "outputId": "e041abf4-8b30-44f8-d1ed-974592a6e9fd"
      },
      "outputs": [],
      "source": [
        "# Encode the sentiment labels using LabelEncoder\n",
        "encoder = LabelEncoder()\n",
        "df['sentiment'] = encoder.fit_transform(df['sentiment'])\n",
        "df.head()"
      ]
    },
    {
      "cell_type": "code",
      "execution_count": null,
      "metadata": {
        "id": "NjxlmxqQCMMj"
      },
      "outputs": [],
      "source": [
        "# Separate the classes\n",
        "positive_reviews = df[df['sentiment'] == 2]\n",
        "neutral_reviews = df[df['sentiment'] == 1]\n",
        "negative_reviews = df[df['sentiment'] == 0]\n",
        "\n",
        "# Downsample positive reviews\n",
        "positive_reviews_downsampled = resample(positive_reviews,\n",
        "                                        replace=False,     # sample without replacement\n",
        "                                        n_samples=85000,   # match the negative sample size\n",
        "                                        random_state=42)   # for reproducibility\n",
        "\n",
        "# Combine downsampled positives with original neutral and negative\n",
        "balanced_df = pd.concat([positive_reviews_downsampled, neutral_reviews, negative_reviews])"
      ]
    },
    {
      "cell_type": "code",
      "execution_count": null,
      "metadata": {
        "colab": {
          "base_uri": "https://localhost:8080/"
        },
        "id": "czY1tKZKvUPX",
        "outputId": "d7c599a2-afbe-476b-e65e-036abd418183"
      },
      "outputs": [],
      "source": [
        "balanced_df.shape"
      ]
    },
    {
      "cell_type": "code",
      "execution_count": null,
      "metadata": {
        "colab": {
          "base_uri": "https://localhost:8080/",
          "height": 559
        },
        "id": "thDhYdD_vURv",
        "outputId": "9c460256-7766-4a75-96dc-024e170530cd"
      },
      "outputs": [],
      "source": [
        "print(balanced_df.value_counts('sentiment'))\n",
        "\n",
        "# Visualize the distribution\n",
        "sns.countplot(x='sentiment', data=balanced_df)\n",
        "plt.title('Sentiment Class Distribution')\n",
        "plt.show()"
      ]
    },
    {
      "cell_type": "code",
      "execution_count": null,
      "metadata": {
        "id": "sNsn6fXSJJWJ"
      },
      "outputs": [],
      "source": [
        "# Shuffling the data\n",
        "balanced_df = shuffle(balanced_df, random_state=42)"
      ]
    },
    {
      "cell_type": "code",
      "execution_count": null,
      "metadata": {
        "id": "KNczH-9QJKWt"
      },
      "outputs": [],
      "source": [
        "# Splitting the dataset into training and testing datasets\n",
        "X_train, X_test, y_train, y_test = train_test_split(balanced_df['cleaned_review'], balanced_df['sentiment'], stratify=balanced_df['sentiment'], train_size=0.8 , test_size=0.2, random_state=42)"
      ]
    },
    {
      "cell_type": "code",
      "execution_count": null,
      "metadata": {
        "id": "n6XzL6veJKZC"
      },
      "outputs": [],
      "source": [
        "#TF-IDF Vectorization\n",
        "vect = TfidfVectorizer(max_features=7500, ngram_range=(1, 2), max_df=0.85, min_df=2)\n",
        "X_train_vectorized = vect.fit_transform(X_train)  # Fit on training data\n",
        "X_test_vectorized = vect.transform(X_test)        # Transform test data with the same vectorizer\n"
      ]
    },
    {
      "cell_type": "code",
      "execution_count": null,
      "metadata": {
        "id": "mNKomMtYCS2n"
      },
      "outputs": [],
      "source": [
        "import pickle\n",
        "# Save the vectorized datasets to a file using pickle\n",
        "with open('vectorized_data.pkl', 'wb') as file:\n",
        "    pickle.dump(vect, file)\n"
      ]
    },
    {
      "cell_type": "code",
      "execution_count": null,
      "metadata": {
        "colab": {
          "base_uri": "https://localhost:8080/"
        },
        "id": "efMpv2AvJKbG",
        "outputId": "8871e20a-8728-465a-da92-10831266fb3b"
      },
      "outputs": [],
      "source": [
        "# Checking the Vocabulary Size\n",
        "vocab_size = len(vect.vocabulary_)\n",
        "print(\"Vocabulary size:\", vocab_size)"
      ]
    },
    {
      "cell_type": "code",
      "execution_count": null,
      "metadata": {
        "id": "U33-0PyGJKfI"
      },
      "outputs": [],
      "source": [
        "#SMOTE Upsampling on Training Data\n",
        "smote = SMOTE(sampling_strategy='not majority', random_state=42)\n",
        "X_train_balanced, y_train_balanced = smote.fit_resample(X_train_vectorized, y_train)"
      ]
    },
    {
      "cell_type": "markdown",
      "metadata": {
        "id": "99O88GQpoSYt"
      },
      "source": [
        "# LOGISTIC REGRESSION"
      ]
    },
    {
      "cell_type": "code",
      "execution_count": null,
      "metadata": {
        "id": "jzi9kH9RJLEP"
      },
      "outputs": [],
      "source": [
        "param_grid = {\n",
        "    'C': [0.001, 0.01, 0.1, 1, 10],\n",
        "    'penalty': ['l1', 'l2']\n",
        "}\n",
        "\n",
        "grid_search = GridSearchCV(LogisticRegression(), param_grid, cv=5)\n",
        "grid_search.fit(X_train_balanced, y_train_balanced)\n",
        "\n",
        "best_params = grid_search.best_params_\n",
        "\n",
        "best_model = grid_search.best_estimator_"
      ]
    },
    {
      "cell_type": "code",
      "execution_count": null,
      "metadata": {
        "colab": {
          "base_uri": "https://localhost:8080/"
        },
        "id": "6oFR_CYbglb3",
        "outputId": "84f675a0-6140-461c-aede-63d54f561833"
      },
      "outputs": [],
      "source": [
        "print(\"Best Hyperparameters:\", best_params)\n",
        "print(best_model)"
      ]
    },
    {
      "cell_type": "code",
      "execution_count": null,
      "metadata": {
        "colab": {
          "base_uri": "https://localhost:8080/",
          "height": 80
        },
        "id": "kH7zyUr2cqHG",
        "outputId": "5b24f194-75ef-462e-aec6-e34b194dcc45"
      },
      "outputs": [],
      "source": [
        "# Initialize the logistic regression model with L2 regularization (default for 'penalty' is 'l2')\n",
        "log_reg_model = LogisticRegression(penalty='l2', C=10, solver='lbfgs', max_iter=1000, random_state=42)\n",
        "\n",
        "# Train the model on the vectorized training data\n",
        "log_reg_model.fit(X_train_balanced, y_train_balanced)\n"
      ]
    },
    {
      "cell_type": "code",
      "execution_count": null,
      "metadata": {
        "colab": {
          "base_uri": "https://localhost:8080/"
        },
        "id": "DhEAmTUpdEIB",
        "outputId": "749b8d32-fe12-4b86-beb7-ef29bf7c2c82"
      },
      "outputs": [],
      "source": [
        "# Predict on the vectorized test set\n",
        "y_pred = log_reg_model.predict(X_test_vectorized)\n",
        "\n",
        "# Evaluate the model\n",
        "accuracy = accuracy_score(y_test, y_pred)\n",
        "print(\"Accuracy:\", accuracy)\n",
        "print(\"Classification Report:\\n\", classification_report(y_test, y_pred))\n",
        "print(\"Confusion Matrix:\\n\", confusion_matrix(y_test, y_pred))"
      ]
    },
    {
      "cell_type": "code",
      "execution_count": null,
      "metadata": {
        "id": "HnKBNCCtdEKV"
      },
      "outputs": [],
      "source": [
        "with open('log_reg_model.pkl', 'wb') as file:\n",
        "    pickle.dump(log_reg_model, file)"
      ]
    },
    {
      "cell_type": "markdown",
      "metadata": {
        "id": "nmBKkMnhCgFJ"
      },
      "source": [
        "# SVM(SUPPORT VECTOR MACHINE"
      ]
    },
    {
      "cell_type": "code",
      "execution_count": null,
      "metadata": {
        "id": "5b1e673e-2b3e-425a-bc91-718600e7b916",
        "outputId": "a3bbce9d-6cb9-4f65-b7fb-724434dafa92"
      },
      "outputs": [],
      "source": [
        "svm_model = SVC(kernel='linear', random_state=42)\n",
        "svm_model.fit(X_train_balanced, y_train_balanced)"
      ]
    },
    {
      "cell_type": "code",
      "execution_count": null,
      "metadata": {
        "id": "a82454c4-d157-45cd-b2cc-98316062d862"
      },
      "outputs": [],
      "source": [
        "y_pred = svm_model.predict(X_test_vectorized)"
      ]
    },
    {
      "cell_type": "code",
      "execution_count": null,
      "metadata": {
        "id": "f5268082-f269-4677-ab54-0fe9039488f8",
        "outputId": "7eceefea-d1b3-4ce5-e2e7-e8d2dd6f23b2"
      },
      "outputs": [],
      "source": [
        "svm_accuracy = accuracy_score(y_test, y_pred)\n",
        "print(\"SVM Model Accuracy:\", svm_accuracy)\n",
        "print(\"\\nClassification Report:\\n\", classification_report(y_test, y_pred))"
      ]
    },
    {
      "cell_type": "code",
      "execution_count": null,
      "metadata": {
        "id": "fd08fed8-d788-41d8-944c-7831058a7fb5"
      },
      "outputs": [],
      "source": [
        "with open('SVM.pkl', 'wb') as file:\n",
        "    pickle.dump(svm_model, file)"
      ]
    },
    {
      "cell_type": "markdown",
      "metadata": {
        "id": "y4liAvUqvZHT"
      },
      "source": [
        "# DATAFRAME VISUALIZATION (ACCURACY AND LOSS)"
      ]
    },
    {
      "cell_type": "code",
      "execution_count": null,
      "metadata": {
        "id": "TQV4ZZ3mvgWS"
      },
      "outputs": [],
      "source": [
        "data = {\n",
        "    'Model': ['Logistic Regression', 'SVM'],\n",
        "    'Accuracy': [0.7899, 0.7884],\n",
        "    'Loss':[1-0.7899, 1-0.7884]\n",
        "}\n",
        "df = pd.DataFrame(data)"
      ]
    },
    {
      "cell_type": "code",
      "execution_count": null,
      "metadata": {
        "colab": {
          "base_uri": "https://localhost:8080/",
          "height": 498
        },
        "id": "xEGxSKzEvqfq",
        "outputId": "2d88ccd3-2707-4cec-c238-7f6a59f633c6"
      },
      "outputs": [],
      "source": [
        "# Create a grouped bar chart\n",
        "x = np.arange(len(df['Model']))  # Position of groups on the x-axis\n",
        "width = 0.35  # Width of the bars\n",
        "\n",
        "# Initialize the plot\n",
        "fig, ax = plt.subplots(figsize=(10, 6))\n",
        "\n",
        "# Plot bars for Accuracy and Loss\n",
        "accuracy_bars = ax.bar(x - width/2, df['Accuracy'], width, label='Accuracy', color='skyblue')\n",
        "loss_bars = ax.bar(x + width/2, df['Loss'], width, label='Loss', color='orange')\n",
        "\n",
        "# Add labels and title\n",
        "ax.set_xlabel('Model')\n",
        "ax.set_ylabel('Value')\n",
        "ax.set_title('Model Accuracies and Losses')\n",
        "ax.set_xticks(x)\n",
        "ax.set_xticklabels(df['Model'])\n",
        "ax.legend()\n",
        "\n",
        "# Add value annotations on top of bars\n",
        "def add_labels(bars):\n",
        "    for bar in bars:\n",
        "        height = bar.get_height()\n",
        "        ax.annotate(f'{height:.2f}',  # Text to display\n",
        "                    xy=(bar.get_x() + bar.get_width() / 2, height),  # Position\n",
        "                    xytext=(0, 3),  # Offset\n",
        "                    textcoords=\"offset points\",\n",
        "                    ha='center', va='bottom')\n",
        "\n",
        "add_labels(accuracy_bars)\n",
        "add_labels(loss_bars)\n",
        "\n",
        "# Show the plot\n",
        "plt.tight_layout()\n",
        "plt.show()"
      ]
    },
    {
      "cell_type": "code",
      "execution_count": null,
      "metadata": {
        "id": "x4_VwW6axr4j",
        "outputId": "1cf8659a-3cd4-43b8-a48a-5a8b3c923a65"
      },
      "outputs": [],
      "source": [
        "\n",
        "metrics_dict = {\n",
        "    'Model': ['Logistic Regression', 'SVM'],\n",
        "    'Accuracy': ['79%', '79%'],\n",
        "    'Precision': ['80%', '80%'],\n",
        "    'Recall': ['79%', '79%'],\n",
        "    'F1-Score': ['79%', '79%'],\n",
        "    'TrainingTime (mins)': [25, 180]\n",
        "}\n",
        "\n",
        "metrics_df = pd.DataFrame(metrics_dict)\n",
        "metrics_df\n"
      ]
    }
  ],
  "metadata": {
    "colab": {
      "gpuType": "T4",
      "provenance": []
    },
    "kernelspec": {
      "display_name": "Python 3",
      "language": "python",
      "name": "python3"
    },
    "language_info": {
      "codemirror_mode": {
        "name": "ipython",
        "version": 3
      },
      "file_extension": ".py",
      "mimetype": "text/x-python",
      "name": "python",
      "nbconvert_exporter": "python",
      "pygments_lexer": "ipython3",
      "version": "3.11.8"
    }
  },
  "nbformat": 4,
  "nbformat_minor": 0
}
